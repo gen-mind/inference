{
 "cells": [
  {
   "cell_type": "code",
   "execution_count": 1,
   "metadata": {},
   "outputs": [
    {
     "name": "stdout",
     "output_type": "stream",
     "text": [
      "Requirement already satisfied: huggingface-hub in /Users/gp/miniforge3/envs/ml-gpu/lib/python3.12/site-packages (0.20.3)\n",
      "Requirement already satisfied: filelock in /Users/gp/miniforge3/envs/ml-gpu/lib/python3.12/site-packages (from huggingface-hub) (3.13.1)\n",
      "Requirement already satisfied: fsspec>=2023.5.0 in /Users/gp/miniforge3/envs/ml-gpu/lib/python3.12/site-packages (from huggingface-hub) (2024.2.0)\n",
      "Requirement already satisfied: requests in /Users/gp/miniforge3/envs/ml-gpu/lib/python3.12/site-packages (from huggingface-hub) (2.31.0)\n",
      "Requirement already satisfied: tqdm>=4.42.1 in /Users/gp/miniforge3/envs/ml-gpu/lib/python3.12/site-packages (from huggingface-hub) (4.66.2)\n",
      "Requirement already satisfied: pyyaml>=5.1 in /Users/gp/miniforge3/envs/ml-gpu/lib/python3.12/site-packages (from huggingface-hub) (6.0.1)\n",
      "Requirement already satisfied: typing-extensions>=3.7.4.3 in /Users/gp/miniforge3/envs/ml-gpu/lib/python3.12/site-packages (from huggingface-hub) (4.9.0)\n",
      "Requirement already satisfied: packaging>=20.9 in /Users/gp/miniforge3/envs/ml-gpu/lib/python3.12/site-packages (from huggingface-hub) (23.2)\n",
      "Requirement already satisfied: charset-normalizer<4,>=2 in /Users/gp/miniforge3/envs/ml-gpu/lib/python3.12/site-packages (from requests->huggingface-hub) (3.3.2)\n",
      "Requirement already satisfied: idna<4,>=2.5 in /Users/gp/miniforge3/envs/ml-gpu/lib/python3.12/site-packages (from requests->huggingface-hub) (3.6)\n",
      "Requirement already satisfied: urllib3<3,>=1.21.1 in /Users/gp/miniforge3/envs/ml-gpu/lib/python3.12/site-packages (from requests->huggingface-hub) (2.0.7)\n",
      "Requirement already satisfied: certifi>=2017.4.17 in /Users/gp/miniforge3/envs/ml-gpu/lib/python3.12/site-packages (from requests->huggingface-hub) (2024.2.2)\n"
     ]
    }
   ],
   "source": [
    "# https://huggingface.co/docs/text-generation-inference/en/basic_tutorials/consuming_tgi\n",
    "\n",
    "#! pip install huggingface-hub\n",
    "\n"
   ]
  },
  {
   "cell_type": "code",
   "execution_count": null,
   "metadata": {},
   "outputs": [],
   "source": [
    "from huggingface_hub import InferenceClient\n",
    "\n",
    "client = InferenceClient(model=\"http://127.0.0.1:8080\")\n",
    "client.text_generation(prompt=\"Write a code for snake game\")\n",
    "\n",
    "for token in client.text_generation(\"How do you make cheese?\", max_new_tokens=12, stream=True):\n",
    "    print(token)"
   ]
  },
  {
   "cell_type": "code",
   "execution_count": null,
   "metadata": {},
   "outputs": [],
   "source": [
    "output = client.text_generation(prompt=\"Meaning of life is\", details=True)\n",
    "print(output)\n",
    "\n",
    "# TextGenerationResponse(generated_text=' a complex concept that is not always clear to the individual. It is a concept that is not always', details=Details(finish_reason=<FinishReason.Length: 'length'>, generated_tokens=20, seed=None, prefill=[], tokens=[Token(id=267, text=' a', logprob=-2.0723474, special=False), Token(id=11235, text=' complex', logprob=-3.1272552, special=False), Token(id=17908, text=' concept', logprob=-1.3632495, special=False),..))\n"
   ]
  }
 ],
 "metadata": {
  "kernelspec": {
   "display_name": "ml-gpu",
   "language": "python",
   "name": "python3"
  },
  "language_info": {
   "codemirror_mode": {
    "name": "ipython",
    "version": 3
   },
   "file_extension": ".py",
   "mimetype": "text/x-python",
   "name": "python",
   "nbconvert_exporter": "python",
   "pygments_lexer": "ipython3",
   "version": "3.12.2"
  }
 },
 "nbformat": 4,
 "nbformat_minor": 2
}
